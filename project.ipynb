{
 "cells": [
  {
   "cell_type": "markdown",
   "metadata": {},
   "source": [
    "Dataset was taken from https://archive.ics.uci.edu/dataset/360/air+quality\n"
   ]
  },
  {
   "cell_type": "markdown",
   "metadata": {},
   "source": [
    "Visualization\n"
   ]
  },
  {
   "cell_type": "code",
   "execution_count": null,
   "metadata": {},
   "outputs": [],
   "source": [
    "import pandas as pd\n",
    "data = pd.read_csv(\"AirQualityUCI.csv\", sep=\";\")\n",
    "print(data.head())\n",
    "print(data.info())\n",
    "\n"
   ]
  },
  {
   "cell_type": "code",
   "execution_count": null,
   "metadata": {},
   "outputs": [],
   "source": [
    "data['DateTime'] = pd.to_datetime(data['Date'] + \" \" + data['Time'])\n",
    "data.set_index('DateTime', inplace=True)\n",
    "data = data[['CO(GT)']].dropna()\n",
    "print(data.head())"
   ]
  },
  {
   "cell_type": "code",
   "execution_count": null,
   "metadata": {},
   "outputs": [],
   "source": [
    "import matplotlib.pyplot as plt\n",
    "plt.figure(figsize=(10, 6))\n",
    "plt.plot(data, label='CO(GT)')\n",
    "plt.title(\"Air quality CO Levels/Time\")\n",
    "plt.xlabel(\"Time\")\n",
    "plt.ylabel(\"CO Levels\")\n",
    "plt.legend()\n",
    "plt.show()\n",
    "plt.hist(data['CO(GT)'], bins=30)\n",
    "plt.title(\"CO Levels\")\n",
    "plt.show()\n"
   ]
  },
  {
   "cell_type": "markdown",
   "metadata": {},
   "source": [
    "Splitting"
   ]
  },
  {
   "cell_type": "code",
   "execution_count": null,
   "metadata": {},
   "outputs": [],
   "source": [
    "train = data[:'2004-03']\n",
    "test = data['2004-04':]\n",
    "print(f\"Train: {len(train)}, Test: {len(test)}\")\n"
   ]
  },
  {
   "cell_type": "markdown",
   "metadata": {},
   "source": [
    "Decomposing"
   ]
  },
  {
   "cell_type": "code",
   "execution_count": null,
   "metadata": {},
   "outputs": [],
   "source": [
    "from statsmodels.tsa.seasonal import seasonal_decompose\n",
    "result = seasonal_decompose(train, model='additive', period=30)\n",
    "result.plot()\n",
    "plt.show()"
   ]
  },
  {
   "cell_type": "markdown",
   "metadata": {},
   "source": [
    "Forecasts"
   ]
  },
  {
   "cell_type": "code",
   "execution_count": null,
   "metadata": {},
   "outputs": [],
   "source": [
    "from sklearn.ensemble import RandomForestRegressor\n",
    "from sklearn.metrics import mean_squared_error\n",
    "\n",
    "train['lag1'] = train['CO(GT)'].shift(1)\n",
    "train = train.dropna()\n",
    "\n",
    "X_train = train[['lag1']]\n",
    "y_train = train['CO(GT)']\n",
    "\n",
    "test['lag1'] = test['CO(GT)'].shift(1)\n",
    "test = test.dropna()\n",
    "\n",
    "X_test = test[['lag1']]\n",
    "y_test = test['CO(GT)']\n",
    "\n",
    "rf = RandomForestRegressor()\n",
    "rf.fit(X_train, y_train)\n",
    "predictions = rf.predict(X_test)\n",
    "mse = mean_squared_error(y_test, predictions)\n",
    "print(f\"RF MSE: {mse}\")\n",
    "plt.plot(y_test.index, y_test, label='True')\n",
    "plt.plot(y_test.index, predictions, label='Predict')\n",
    "plt.legend()\n",
    "plt.show()\n"
   ]
  },
  {
   "cell_type": "code",
   "execution_count": null,
   "metadata": {},
   "outputs": [],
   "source": [
    "from statsmodels.tsa.holtwinters import ExponentialSmoothing\n",
    "\n",
    "ets_model = ExponentialSmoothing(train, seasonal='add', trend='add', seasonal_periods=30)\n",
    "ets_fit = ets_model.fit()\n",
    "ets_predictions = ets_fit.forecast(len(test))\n",
    "mse_ets = mean_squared_error(test, ets_predictions)\n",
    "print(f\"ETS MSE: {mse_ets}\")\n",
    "\n",
    "plt.plot(test.index, test, label='True')\n",
    "plt.plot(test.index, ets_predictions, label='ETS Forecast')\n",
    "plt.legend()\n",
    "plt.show()\n"
   ]
  },
  {
   "cell_type": "markdown",
   "metadata": {},
   "source": [
    "Comparing"
   ]
  },
  {
   "cell_type": "code",
   "execution_count": null,
   "metadata": {},
   "outputs": [],
   "source": [
    "print(f\"Random  MSE: {mse}\")\n",
    "print(f\"ETS MSE: {mse_ets}\")"
   ]
  }
 ],
 "metadata": {
  "kernelspec": {
   "display_name": "Python 3",
   "language": "python",
   "name": "python3"
  },
  "language_info": {
   "name": "python",
   "version": "3.7.3"
  }
 },
 "nbformat": 4,
 "nbformat_minor": 2
}
